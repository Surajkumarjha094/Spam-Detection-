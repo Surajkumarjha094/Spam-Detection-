{
 "cells": [
  {
   "cell_type": "code",
   "execution_count": null,
   "id": "8960b262-7483-4db2-88ca-1de393be8a9b",
   "metadata": {},
   "outputs": [],
   "source": [
    "# Import necessary libraries\n",
    "import pandas as pd\n",
    "\n",
    "# Define the file path\n",
    "file_path = ''\n",
    "\n",
    "# Read the file\n",
    "try:\n",
    "    # Try reading with UTF-8 encoding\n",
    "    df = pd.read_csv(file_path, encoding='utf-8')\n",
    "except UnicodeDecodeError:\n",
    "    # If there's a UnicodeDecodeError, try a different encoding and then convert to UTF-8\n",
    "    with open(file_path, 'r', encoding='ISO-8859-1') as file:\n",
    "        content = file.read()\n",
    "    with open('/mnt/data/spam_utf8.csv', 'w', encoding='utf-8') as file:\n",
    "        file.write(content)\n",
    "    df = pd.read_csv('/mnt/data/spam_utf8.csv', encoding='utf-8')\n",
    "\n",
    "# Save the DataFrame to a new CSV file with UTF-8 encoding\n",
    "output_path = '/mnt/data/spam_utf8.csv'\n",
    "df.to_csv(output_path, index=False, encoding='utf-8')\n",
    "\n",
    "print(f\"File saved with UTF-8 encoding at: {output_path}\")\n"
   ]
  }
 ],
 "metadata": {
  "kernelspec": {
   "display_name": "Python 3 (ipykernel)",
   "language": "python",
   "name": "python3"
  },
  "language_info": {
   "codemirror_mode": {
    "name": "ipython",
    "version": 3
   },
   "file_extension": ".py",
   "mimetype": "text/x-python",
   "name": "python",
   "nbconvert_exporter": "python",
   "pygments_lexer": "ipython3",
   "version": "3.12.4"
  }
 },
 "nbformat": 4,
 "nbformat_minor": 5
}
